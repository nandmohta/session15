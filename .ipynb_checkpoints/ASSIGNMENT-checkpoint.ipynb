{
 "cells": [
  {
   "cell_type": "code",
   "execution_count": 1,
   "metadata": {},
   "outputs": [],
   "source": [
    "# Problem Statement 1\n",
    "# You survey households in your area to find the average rent they are paying. Find the standard deviation\n",
    "# from the following data:\n",
    "# $1550, $1700, $900, $850, $1000, $950."
   ]
  },
  {
   "cell_type": "code",
   "execution_count": 2,
   "metadata": {},
   "outputs": [],
   "source": [
    "import numpy as np"
   ]
  },
  {
   "cell_type": "code",
   "execution_count": 3,
   "metadata": {},
   "outputs": [
    {
     "name": "stdout",
     "output_type": "stream",
     "text": [
      "Average rent paid by households in the area is 1220.0\n",
      "Standard Deviation of the rent paid is 335.56\n"
     ]
    }
   ],
   "source": [
    "rentpaid= [1550,1700,900,1000,950]\n",
    "print(\"Average rent paid by households in the area is {}\".format(np.mean(rentpaid)))\n",
    "print(\"Standard Deviation of the rent paid is {:.2f}\".format(np.std(rentpaid)))"
   ]
  },
  {
   "cell_type": "code",
   "execution_count": 4,
   "metadata": {},
   "outputs": [],
   "source": [
    "# Problem Statement 2:\n",
    "# Find the variance for the following set of data representing trees in California (heights in feet):\n",
    "# 3, 21, 98, 203, 17, 9"
   ]
  },
  {
   "cell_type": "code",
   "execution_count": 5,
   "metadata": {},
   "outputs": [
    {
     "name": "stdout",
     "output_type": "stream",
     "text": [
      "Variance for the height of trees 5183.25 \n"
     ]
    }
   ],
   "source": [
    "treeheights=[3, 21, 98, 203, 17, 9]\n",
    "print(\"Variance for the height of trees {:.2f} \".format((np.var(treeheights))))"
   ]
  },
  {
   "cell_type": "code",
   "execution_count": 6,
   "metadata": {},
   "outputs": [],
   "source": [
    "# Problem Statement 3:\n",
    "# In a class on 100 students, 80 students passed in all subjects, 10 failed in one subject, 7\n",
    "# failed in two subjects and 3 failed in three subjects. Find the probability distribution of\n",
    "# the variable for number of subjects a student from the given class has failed in."
   ]
  },
  {
   "cell_type": "code",
   "execution_count": 7,
   "metadata": {},
   "outputs": [
    {
     "name": "stdout",
     "output_type": "stream",
     "text": [
      "The Probability of failing in 0 subjects P(0) =  0.80\n",
      "The Probability of failing in 1 subjects P(1) =  0.10\n",
      "The Probability of failing in 2 subjects P(2) =  0.07\n",
      "The Probability of failing in 3 subjects P(3) =  0.03\n",
      "The Probability distribution can be shown as below \n",
      "X     0       1      2     3\n",
      "P(X)  0.80    0.10   0.07   0.03\n"
     ]
    }
   ],
   "source": [
    "print(\"The Probability of failing in 0 subjects P(0) = {: .2f}\".format(80/100))\n",
    "print(\"The Probability of failing in 1 subjects P(1) = {: .2f}\".format(10/100))\n",
    "print(\"The Probability of failing in 2 subjects P(2) = {: .2f}\".format(7/100))\n",
    "print(\"The Probability of failing in 3 subjects P(3) = {: .2f}\".format(3/100))\n",
    "print(\"The Probability distribution can be shown as below \")\n",
    "print(\"X     0       1      2     3\")\n",
    "print(\"P(X)  0.80    0.10   0.07   0.03\")\n"
   ]
  },
  {
   "cell_type": "code",
   "execution_count": 21,
   "metadata": {},
   "outputs": [],
   "source": []
  },
  {
   "cell_type": "code",
   "execution_count": null,
   "metadata": {},
   "outputs": [],
   "source": []
  }
 ],
 "metadata": {
  "kernelspec": {
   "display_name": "Python 3",
   "language": "python",
   "name": "python3"
  },
  "language_info": {
   "codemirror_mode": {
    "name": "ipython",
    "version": 3
   },
   "file_extension": ".py",
   "mimetype": "text/x-python",
   "name": "python",
   "nbconvert_exporter": "python",
   "pygments_lexer": "ipython3",
   "version": "3.6.5"
  }
 },
 "nbformat": 4,
 "nbformat_minor": 2
}
